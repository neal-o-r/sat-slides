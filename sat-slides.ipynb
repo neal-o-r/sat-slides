{
 "cells": [
  {
   "cell_type": "markdown",
   "metadata": {
    "slideshow": {
     "slide_type": "slide"
    }
   },
   "source": [
    "# SAT Solving in Python\n",
    "---\n",
    "**Neal Ó Riain**"
   ]
  },
  {
   "cell_type": "markdown",
   "metadata": {
    "slideshow": {
     "slide_type": "slide"
    }
   },
   "source": [
    "# ``` $ whoami```\n",
    "---\n",
    "\n",
    "<img src=\"img/me.jpg\" width=\"35%\" align=\"right\"> \n",
    " \n",
    " * Former Astrophysicist (🔭, 🚀, 🌝)\n",
    " \n",
    " \n",
    "<br> \n",
    " \n",
    " \n",
    " * Current Data Scientist at Spotify."
   ]
  },
  {
   "cell_type": "markdown",
   "metadata": {
    "slideshow": {
     "slide_type": "slide"
    }
   },
   "source": [
    "# Outline\n",
    "\n",
    "* What is the SAT problem?\n",
    "  \n",
    "* How can we solve it?\n",
    "\n",
    "* Examples"
   ]
  },
  {
   "cell_type": "markdown",
   "metadata": {
    "slideshow": {
     "slide_type": "slide"
    }
   },
   "source": [
    "# Before we begin\n",
    "\n",
    "Slides: [n-o-r.xyz/sat-slides/](http://www.n-o-r.xyz/sat-slides/)\n",
    "\n",
    "Notebook: [github.com/neal-o-r/sat-slides/](http://www.github.com/neal-o-r/sat-slides/)"
   ]
  },
  {
   "cell_type": "markdown",
   "metadata": {
    "slideshow": {
     "slide_type": "slide"
    }
   },
   "source": [
    "<center>\n",
    "<H1> What is the SAT problem? <H1>\n",
    "</center>"
   ]
  },
  {
   "cell_type": "markdown",
   "metadata": {
    "slideshow": {
     "slide_type": "subslide"
    }
   },
   "source": [
    "# What is SAT?\n",
    "\n",
    "The SAT problem asks the question, can we find a satisfying solution to a formula of propositional logic?"
   ]
  },
  {
   "cell_type": "markdown",
   "metadata": {
    "slideshow": {
     "slide_type": "fragment"
    }
   },
   "source": [
    "Hold on, what's a *formula of propositional logic*?"
   ]
  },
  {
   "cell_type": "markdown",
   "metadata": {
    "slideshow": {
     "slide_type": "subslide"
    }
   },
   "source": [
    "# Propositional logic\n",
    "\n",
    "Take some Boolean variables, $x_i \\in ({\\rm True}, {\\rm False})$\n",
    "\n",
    "```python\n",
    "x_i = True\n",
    "x_i = False```\n",
    "\n",
    "We can choose to negate a variable, $\\neg x_i$.\n",
    "\n",
    "```python\n",
    "not x_i```\n",
    "\n",
    "And we can choose to combine variables using $\\lor$ (or) or $\\land$ (and)\n",
    "\n",
    "```python\n",
    "x_1 or x_2\n",
    "x_1 and x_2\n",
    "# or\n",
    "any([x_1, x_2])\n",
    "all([x_1, x_2])\n",
    "```\n",
    "\n"
   ]
  },
  {
   "cell_type": "markdown",
   "metadata": {
    "slideshow": {
     "slide_type": "subslide"
    }
   },
   "source": [
    "# Propositional logic\n",
    "\n",
    "Using these rules we can make formulas,\n",
    "\n",
    "$$\n",
    "(a \\land \\neg b) \\lor (c \\land (\\neg c \\land b))\n",
    "$$\n",
    "\n",
    "or, in Python,\n",
    "\n",
    "```python\n",
    "(a and (not b)) or (c and ((not c) and b))\n",
    "```"
   ]
  },
  {
   "cell_type": "markdown",
   "metadata": {
    "slideshow": {
     "slide_type": "fragment"
    }
   },
   "source": [
    "The SAT question is, can we find a setting for the variables $a$, $b$ and $c$, such that the whole formula evauluates to ${\\rm True}$"
   ]
  },
  {
   "cell_type": "markdown",
   "metadata": {
    "slideshow": {
     "slide_type": "subslide"
    }
   },
   "source": [
    "<center>\n",
    "<H1> So what, who cares? <H1>\n",
    "</center>"
   ]
  },
  {
   "cell_type": "markdown",
   "metadata": {
    "slideshow": {
     "slide_type": "subslide"
    }
   },
   "source": [
    "# SAT Problem\n",
    "\n",
    "This is a very old problem (dating back to the Greeks), and unsurprisingly it's pretty hard to solve.\n",
    "\n",
    "The problem is in NP, which means there's no polynomial time algorithm -- solving a formula with $n$ variables will take $\\sim O(2^n)$\n",
    "\n",
    "So in general we can't do better than just guessing..."
   ]
  },
  {
   "cell_type": "markdown",
   "metadata": {
    "slideshow": {
     "slide_type": "subslide"
    }
   },
   "source": [
    "# SAT Problem\n",
    "\n",
    "That said, we have good solvers that scale to $10^6$ variables\n",
    "\n",
    "The problem is NP-complete, which means any other NP problem can be written in a SAT problems\n",
    "\n",
    "If you want to solve knapsack, TSP, graph-colouring, etc - SAT solvers are a good place to start"
   ]
  },
  {
   "cell_type": "markdown",
   "metadata": {
    "slideshow": {
     "slide_type": "subslide"
    }
   },
   "source": [
    "# Practical problems\n",
    "\n",
    "SAT solvers are used for a *lot* of very practical applications\n",
    "\n",
    "* Planning (how should we partition a resource between these options?)\n",
    "* Scheduling (what's the best route to take given constraints?)\n",
    "* Building (where should these components go on a circuit?)\n",
    "\n",
    "Any situation where you need to satisfy complex constraints, and make a set of binary decisions\n",
    "\n",
    "Extensions to the algorithm I'm about to show also power SMT solvers (like z3), which allow formal software verification"
   ]
  },
  {
   "cell_type": "markdown",
   "metadata": {
    "slideshow": {
     "slide_type": "slide"
    }
   },
   "source": [
    "<center>\n",
    "<H1> How can we solve this problem? <H1>\n",
    "</center>"
   ]
  },
  {
   "cell_type": "markdown",
   "metadata": {
    "slideshow": {
     "slide_type": "subslide"
    }
   },
   "source": [
    "# CNF\n",
    "\n",
    "To start, it turns out that every formula can be written in *Conjunctive Normal Form* - which is a fancy way of saying an \"AND of ORs\"\n",
    "\n",
    "Given a formula:\n",
    "$$\n",
    "(a \\land \\neg b) \\lor (c \\land (\\neg c \\land b)) \\dots\n",
    "$$\n",
    "\n",
    "By applying the rules of logic, we can quickly write it in a form like\n",
    "\n",
    "$$\n",
    "(a \\lor b \\lor \\dots ) \\land \\\\\n",
    "(b \\lor \\neg d \\lor \\dots ) \\land \\\\\n",
    "(\\neg c \\lor a \\lor \\dots ) \\land \\\\\n",
    "\\dots\n",
    "$$"
   ]
  },
  {
   "cell_type": "markdown",
   "metadata": {
    "slideshow": {
     "slide_type": "subslide"
    }
   },
   "source": [
    "# Definitions\n",
    "$$\n",
    "(a \\lor b \\lor \\neg c) \\land \\\\\n",
    "(\\neg a \\lor \\neg c ) \\land \\\\\n",
    "(\\neg b \\lor d \\lor a )\n",
    "$$\n",
    "\n",
    "Each free symbol is a *variable* - here we have $a$, $b$, $c$, and $d$\n",
    "\n",
    "Each combination of variable and sign is a *term* - i.e. $a$ and $\\neg a$ are different terms.\n",
    "\n",
    "Each set of $\\lor$'s is a *clause*\n",
    "\n",
    "All the clauses $\\land$ together is a *circuit*"
   ]
  },
  {
   "cell_type": "markdown",
   "metadata": {
    "slideshow": {
     "slide_type": "subslide"
    }
   },
   "source": [
    "# Python definitions"
   ]
  },
  {
   "cell_type": "code",
   "execution_count": 1,
   "metadata": {
    "slideshow": {
     "slide_type": "skip"
    }
   },
   "outputs": [],
   "source": [
    "from __future__ import annotations\n",
    "from typing import List, Tuple, Dict\n",
    "from itertools import product"
   ]
  },
  {
   "cell_type": "code",
   "execution_count": 2,
   "metadata": {
    "slideshow": {
     "slide_type": "fragment"
    }
   },
   "outputs": [],
   "source": [
    "Variable = str\n",
    "\n",
    "class Term:\n",
    "    def __init__(self, name: str):\n",
    "        self.name = name\n",
    "        self.variable = name.split(\"¬\")[-1]\n",
    "        self.sign = not (name.startswith(\"¬\"))\n",
    "\n",
    "    def __repr__(self) -> str:\n",
    "        return self.name\n",
    "\n",
    "    def assign(self, b: bool) -> bool:\n",
    "        return b if self.sign else (not b)"
   ]
  },
  {
   "cell_type": "code",
   "execution_count": 3,
   "metadata": {
    "slideshow": {
     "slide_type": "skip"
    }
   },
   "outputs": [],
   "source": [
    "# this is the full version we will use\n",
    "class Term:\n",
    "    def __init__(self, name: str):\n",
    "        self.name = name\n",
    "        self.variable = name.split(\"¬\")[-1]\n",
    "        self.sign = not (name.startswith(\"¬\"))\n",
    "\n",
    "    def __repr__(self) -> str:\n",
    "        return self.name\n",
    "\n",
    "    def __eq__(self, b: Term) -> bool:\n",
    "        return b.name == self.name\n",
    "\n",
    "    def __mul__(self, i: int) -> Term:\n",
    "        return self if i > 0 else Term(\"¬\" * self.sign + self.variable)\n",
    "\n",
    "    def __rmul__(self, i: int) -> Term:\n",
    "        return self.__mul__(i)\n",
    "\n",
    "    def __neg__(self) -> Term:\n",
    "        return self.__mul__(-1)\n",
    "\n",
    "    def __hash__(self) -> int:\n",
    "        return hash(self.name)\n",
    "\n",
    "    def assign(self, b: bool) -> bool:\n",
    "        return b if self.sign else (not b)"
   ]
  },
  {
   "cell_type": "code",
   "execution_count": 4,
   "metadata": {
    "slideshow": {
     "slide_type": "fragment"
    }
   },
   "outputs": [
    {
     "name": "stdout",
     "output_type": "stream",
     "text": [
      "x\n",
      "¬x\n"
     ]
    }
   ],
   "source": [
    "print(Term(\"x\"))\n",
    "print(Term(\"¬x\"))"
   ]
  },
  {
   "cell_type": "code",
   "execution_count": 5,
   "metadata": {
    "slideshow": {
     "slide_type": "fragment"
    }
   },
   "outputs": [
    {
     "data": {
      "text/plain": [
       "False"
      ]
     },
     "execution_count": 5,
     "metadata": {},
     "output_type": "execute_result"
    }
   ],
   "source": [
    "Term(\"¬x\").assign(True)"
   ]
  },
  {
   "cell_type": "code",
   "execution_count": 6,
   "metadata": {
    "slideshow": {
     "slide_type": "skip"
    }
   },
   "outputs": [],
   "source": [
    "from pprint import pprint as pretty_print\n",
    "\n",
    "pprint = lambda x: pretty_print(x, width=20)"
   ]
  },
  {
   "cell_type": "markdown",
   "metadata": {
    "slideshow": {
     "slide_type": "subslide"
    }
   },
   "source": [
    "# Python definitions"
   ]
  },
  {
   "cell_type": "code",
   "execution_count": 7,
   "metadata": {
    "slideshow": {
     "slide_type": "fragment"
    }
   },
   "outputs": [
    {
     "name": "stdout",
     "output_type": "stream",
     "text": [
      "[(a, b, ¬c),\n",
      " (¬a, ¬c),\n",
      " (¬b, d, a)]\n"
     ]
    }
   ],
   "source": [
    "Clause = Tuple[Term, ...]\n",
    "Circuit = List[Clause]\n",
    "\n",
    "# Now we can define circuits, for example:\n",
    "circuit = [(Term(\"a\"), Term(\"b\"), Term(\"¬c\")),\n",
    "           (Term(\"¬a\"), Term(\"¬c\")),\n",
    "           (Term(\"¬b\"), Term(\"d\"), Term(\"a\"))]\n",
    "pprint(circuit)"
   ]
  },
  {
   "cell_type": "markdown",
   "metadata": {
    "slideshow": {
     "slide_type": "fragment"
    }
   },
   "source": [
    "$$\n",
    "(a \\lor b \\lor \\neg c) \\land \\\\\n",
    "(\\neg a \\lor \\neg c ) \\land \\\\\n",
    "(\\neg b \\lor d \\lor a )\n",
    "$$"
   ]
  },
  {
   "cell_type": "markdown",
   "metadata": {
    "slideshow": {
     "slide_type": "subslide"
    }
   },
   "source": [
    "# Assignment"
   ]
  },
  {
   "cell_type": "code",
   "execution_count": 8,
   "metadata": {
    "slideshow": {
     "slide_type": "fragment"
    }
   },
   "outputs": [],
   "source": [
    "# We also introduce an assigment, a mapping of var -> setting\n",
    "Assignment = Dict[Variable, bool]\n",
    "\n",
    "# check if `any` term in a clause is True\n",
    "def eval_clause(clse: Clause, assigns: Assignment) -> bool:\n",
    "    return any([t.assign(assigns[t.variable]) for t in clse]) \n",
    " \n",
    "# check if `all` clauses evaluate to True\n",
    "def eval_circuit(circ: Circuit, assigns: Assignment) -> bool:\n",
    "    return all(eval_clause(clse, assigns) for clse in circ)"
   ]
  },
  {
   "cell_type": "code",
   "execution_count": 9,
   "metadata": {
    "slideshow": {
     "slide_type": "fragment"
    }
   },
   "outputs": [
    {
     "data": {
      "text/plain": [
       "False"
      ]
     },
     "execution_count": 9,
     "metadata": {},
     "output_type": "execute_result"
    }
   ],
   "source": [
    "assignment = {\"a\": True, \"b\": True, \"c\": True, \"d\": True}\n",
    "\n",
    "# Does this assignment satisfy our circuit?\n",
    "eval_circuit(circuit, assignment)"
   ]
  },
  {
   "cell_type": "markdown",
   "metadata": {
    "slideshow": {
     "slide_type": "subslide"
    }
   },
   "source": [
    "# Exhaustive solution"
   ]
  },
  {
   "cell_type": "code",
   "execution_count": 10,
   "metadata": {
    "slideshow": {
     "slide_type": "fragment"
    }
   },
   "outputs": [
    {
     "data": {
      "text/plain": [
       "(True, {'a': True, 'b': True, 'c': False, 'd': True})"
      ]
     },
     "execution_count": 10,
     "metadata": {},
     "output_type": "execute_result"
    }
   ],
   "source": [
    "Solution = Tuple[bool, Assignment] \n",
    "\n",
    "def exhaustive_search(circ: Circuit) -> Solution:\n",
    "    variables = {term.variable for clse in circ for term in clse}\n",
    "        \n",
    "    for bools in product([True, False], repeat=len(variables)):\n",
    "        assigns = dict(zip(variables, bools))\n",
    "        if eval_circuit(circ, assigns):\n",
    "            return True, assigns\n",
    "        \n",
    "    return False, {}\n",
    "\n",
    "exhaustive_search(circuit)"
   ]
  },
  {
   "cell_type": "markdown",
   "metadata": {
    "slideshow": {
     "slide_type": "fragment"
    }
   },
   "source": [
    "$$\n",
    "(a \\lor b \\lor \\neg c) \\land \\\\\n",
    "(\\neg a \\lor \\neg c ) \\land \\\\\n",
    "(\\neg b \\lor d \\lor a )\n",
    "$$"
   ]
  },
  {
   "cell_type": "markdown",
   "metadata": {
    "slideshow": {
     "slide_type": "subslide"
    }
   },
   "source": [
    "# Exhaustive solution\n",
    "\n",
    "Exhaustive solutions are bad news, there are $2^n$ configurations.\n",
    "\n",
    "$2^4$ is fine, but things get out of hand quickly. $2^{300}$ is more atoms than there are in the universe.\n",
    "\n",
    "So, can we do better than trying every solution? No in theory, but in practice yes!"
   ]
  },
  {
   "cell_type": "markdown",
   "metadata": {
    "slideshow": {
     "slide_type": "slide"
    }
   },
   "source": [
    "<center>\n",
    "<H1> Doing better <H1>\n",
    "</center>"
   ]
  },
  {
   "cell_type": "markdown",
   "metadata": {
    "slideshow": {
     "slide_type": "subslide"
    }
   },
   "source": [
    "# DPLL\n",
    "\n",
    "The Davis–Putnam–Logemann–Loveland (DPLL) algorithm, invented in 1962\n",
    "\n",
    "Still the best method for solving SAT problems\n",
    "\n",
    "Could take $2^n$ steps, but in practice this algorithm is pretty fast, and scales to large problems"
   ]
  },
  {
   "cell_type": "markdown",
   "metadata": {
    "slideshow": {
     "slide_type": "subslide"
    }
   },
   "source": [
    "# DPLL\n",
    "\n",
    "The core algorithm is pretty simple, starting with an input circuit $C$"
   ]
  },
  {
   "cell_type": "markdown",
   "metadata": {
    "slideshow": {
     "slide_type": "fragment"
    }
   },
   "source": [
    "- Make an assumption about one of the variables in $C$, e.g. set $a = {\\rm True}$"
   ]
  },
  {
   "cell_type": "markdown",
   "metadata": {
    "slideshow": {
     "slide_type": "fragment"
    }
   },
   "source": [
    "- Use that assumption to simplify the circuit by removing terms, $C \\rightarrow C^\\prime$"
   ]
  },
  {
   "cell_type": "markdown",
   "metadata": {
    "slideshow": {
     "slide_type": "fragment"
    }
   },
   "source": [
    "- Recursively call DPLL on the new smaller, simpler circuit $C^\\prime$"
   ]
  },
  {
   "cell_type": "markdown",
   "metadata": {
    "slideshow": {
     "slide_type": "subslide"
    }
   },
   "source": [
    "# DPLL\n",
    "\n",
    "\n",
    "1. Make an assumption about one of the variables in $C$, e.g. set $a = {\\rm True}$\n",
    "2. Use that assumption to simplify the circuit by removing terms, $C \\rightarrow C^\\prime$\n",
    "3. Recursively call DPLL on the new smaller, simpler $C^\\prime$\n",
    "\n",
    "There are 2 possible outcomes:\n",
    "- If we delete all the terms in a clause we have a *contradiction* somewhere, we have to change an assumption\n",
    "- If we end up with an empty circuit, then we've solved the problem, the assumptions are correct"
   ]
  },
  {
   "cell_type": "markdown",
   "metadata": {
    "slideshow": {
     "slide_type": "subslide"
    }
   },
   "source": [
    "# How do we simplify a circuit?\n",
    "<br>\n",
    "$$\n",
    "C = \n",
    "(a \\lor b \\lor \\neg c) \\land \\\\\n",
    "(\\neg a \\lor \\neg c ) \\land \\\\\n",
    "(\\neg b \\lor d \\lor a )\n",
    "$$\n",
    "\n",
    "Assume that $a = {\\rm True}$.\n",
    "\n",
    "Any clause containing the term $a$ is now ${\\rm True}$ by definition, so delete it.\n",
    "\n",
    "We can ignore $\\neg a$ in any clause, since it can't contribute to making the clause ${\\rm True}$\n",
    "\n",
    "$$\n",
    "C = (\\neg c)\n",
    "$$"
   ]
  },
  {
   "cell_type": "markdown",
   "metadata": {
    "slideshow": {
     "slide_type": "fragment"
    }
   },
   "source": [
    "For this circuit, if we now set $c = {\\rm False}$ we have a solution"
   ]
  },
  {
   "cell_type": "markdown",
   "metadata": {
    "slideshow": {
     "slide_type": "subslide"
    }
   },
   "source": [
    "# How do we simplify a circuit?"
   ]
  },
  {
   "cell_type": "code",
   "execution_count": 11,
   "metadata": {
    "slideshow": {
     "slide_type": "fragment"
    }
   },
   "outputs": [
    {
     "name": "stdout",
     "output_type": "stream",
     "text": [
      "[(a, b, ¬c),\n",
      " (¬a, ¬c),\n",
      " (¬b, d, a)]\n"
     ]
    },
    {
     "data": {
      "text/plain": [
       "[(¬c,)]"
      ]
     },
     "execution_count": 11,
     "metadata": {},
     "output_type": "execute_result"
    }
   ],
   "source": [
    "# remove any clause that contains the Term\n",
    "def rm_clse(circ: Circuit, trm: Term) -> Circuit:\n",
    "    return [clse for clse in circ if trm not in clse]\n",
    "\n",
    "# Remove the Term from every clause in the circuit\n",
    "def rm_term(circ: Circuit, trm: Term) -> Circuit:\n",
    "    return [tuple(t for t in clse if t != trm) for clse in circ]\n",
    "\n",
    "pprint(circuit)\n",
    "rm_term(rm_clse(circuit, Term(\"a\")), Term(\"¬a\"))"
   ]
  },
  {
   "cell_type": "markdown",
   "metadata": {
    "slideshow": {
     "slide_type": "fragment"
    }
   },
   "source": [
    "$$\n",
    "(a \\lor b \\lor \\neg c) \\land \\\\\n",
    "(\\neg a \\lor \\neg c ) \\land \\\\\n",
    "(\\neg b \\lor d \\lor a )\n",
    "$$"
   ]
  },
  {
   "cell_type": "code",
   "execution_count": 12,
   "metadata": {
    "slideshow": {
     "slide_type": "subslide"
    }
   },
   "outputs": [
    {
     "data": {
      "text/plain": [
       "(True, {'a': True, 'c': False})"
      ]
     },
     "execution_count": 12,
     "metadata": {},
     "output_type": "execute_result"
    }
   ],
   "source": [
    "def simple_dpll(circ: Circuit, assigns: Assignment = {}) -> Solution:\n",
    "    # empty circuit is True\n",
    "    if len(circ) is 0:\n",
    "        return True, assigns\n",
    "    # empty clause is False\n",
    "    if any(len(clse) is 0 for clse in circ):\n",
    "        return False, {}\n",
    "\n",
    "    # pick a variable\n",
    "    v = Term(circ[0][0].variable)\n",
    "    # set it to True, simplify, recurse\n",
    "    new_circ = rm_term(rm_clse(circ, v), -v)\n",
    "    sat, pot_assign = simple_dpll(new_circ, {**assigns, **{v.variable: True}})\n",
    "    if sat:\n",
    "        return sat, pot_assign\n",
    "    # or set it to False, simplify, recurse\n",
    "    new_circ = rm_term(rm_clse(circ, -v), v)\n",
    "    sat, pot_assign = simple_dpll(new_circ, {**assigns, **{v.variable: False}})\n",
    "    if sat:\n",
    "        return sat, pot_assign\n",
    "\n",
    "    return False, {}\n",
    "\n",
    "simple_dpll(circuit)"
   ]
  },
  {
   "cell_type": "markdown",
   "metadata": {
    "slideshow": {
     "slide_type": "subslide"
    }
   },
   "source": [
    "# DPLL\n",
    "\n",
    "That's the core DPLL algorithm, but there are 2 other important kinds of simplifications\n",
    "\n",
    "1. Unit clause propogation\n",
    "2. Pure term resolution\n",
    "\n",
    "These simplification methods are pretty straightforward, and implementing them makes the algorithm much more powerful"
   ]
  },
  {
   "cell_type": "markdown",
   "metadata": {
    "slideshow": {
     "slide_type": "subslide"
    }
   },
   "source": [
    "# Unit Clause Propogation\n",
    "\n",
    "If a clause contains only one term (like clause 4 below), it's called a *unit clause*\n",
    "\n",
    "$$\n",
    "(a \\lor d \\lor \\neg c) \\land \\\\\n",
    "(\\neg a \\lor \\neg c ) \\land \\\\\n",
    "(\\neg b \\lor d \\lor a ) \\land \\\\\n",
    "(b) \\land \\\\\n",
    "(a \\lor \\neg d)\n",
    "$$\n",
    "\n",
    "That clause has to be ${\\rm True}$, or the whole circuit fails.\n",
    "\n",
    "So set it to ${\\rm True}$ (here $b = {\\rm True}$), and simplify.\n",
    "\n",
    "This is super-useful, we often get cascade of unit clauses which makes the circuit much simpler"
   ]
  },
  {
   "cell_type": "markdown",
   "metadata": {
    "slideshow": {
     "slide_type": "subslide"
    }
   },
   "source": [
    "# Pure Term Resolution\n",
    "\n",
    "If a term only appears as positive, or negative, it's called *pure*, like $\\neg c$ below\n",
    "\n",
    "$$\n",
    "(a \\lor d\\lor \\neg c) \\land \\\\\n",
    "(\\neg a \\lor \\neg c ) \\land \\\\\n",
    "(\\neg b \\lor d \\lor a ) \\land \\\\\n",
    "(b) \\land \\\\\n",
    "(a \\lor \\neg d)\n",
    "$$\n",
    "\n",
    "we can make that term ${\\rm True}$ everywhere without effecting anything else.\n",
    "\n",
    "So set it to ${\\rm True}$ (here $c = {\\rm False}$), and simplify (in this case remove clauses 1 & 2)"
   ]
  },
  {
   "cell_type": "code",
   "execution_count": 13,
   "metadata": {
    "slideshow": {
     "slide_type": "skip"
    }
   },
   "outputs": [],
   "source": [
    "def pure_literal_elimination(circ: Circuit) -> Update:\n",
    "    terms = [t for clse in circ for t in clse]\n",
    "    pures = {t for t in terms if -t not in terms}\n",
    "\n",
    "    assigns = {p.variable: p.sign for p in pures}\n",
    "    new_circ = circ.copy()\n",
    "    for p in pures:\n",
    "        new_circ = rm_clse(new_circ, p)\n",
    "\n",
    "    return assigns, new_circ\n",
    "\n",
    "\n",
    "def unit_clause_resolution(circ: Circuit, assigns: Assignment = {}) -> Update:\n",
    "    if all(len(clse) != 1 for clse in circ):\n",
    "        return assigns, circ\n",
    "\n",
    "    units = {clse[0] for clse in circ if len(clse) == 1}\n",
    "    assigns = {**assigns, **{u.variable: u.sign for u in units}}\n",
    "\n",
    "    new_circ = circ.copy()\n",
    "    for u in units:\n",
    "        new_circ = rm_term(rm_clse(new_circ, u), -u)\n",
    "\n",
    "    return unit_clause_resolution(new_circ, assigns)\n",
    "\n",
    "\n",
    "def dpll(circ: Circuit, assigns: Assignment = {}) -> Solution:\n",
    "    if len(circ) is 0:\n",
    "        return True, assigns\n",
    "\n",
    "    if any(len(clse) == 0 for clse in circ):\n",
    "        return False, {}\n",
    "\n",
    "    # do resolution\n",
    "    unit_a, unit_circ = unit_clause_resolution(circ)\n",
    "    pure_a, resolved_circ = pure_literal_elimination(unit_circ)\n",
    "\n",
    "    assigns = {**assigns, **pure_a, **unit_a}\n",
    "    # did resolution solve the problem\n",
    "    if len(resolved_circ) is 0:\n",
    "        return True, assigns\n",
    "\n",
    "    v = Term(circ[0][0].variable)\n",
    "\n",
    "    new_circ = rm_term(rm_clse(resolved_circ, v), -v)\n",
    "    sat, pot_assign = dpll(new_circ, {**assigns, **{v.variable: True}})\n",
    "    if sat:\n",
    "        return sat, pot_assign\n",
    "\n",
    "    new_circ = rm_term(rm_clse(resolved_circ, -v), v)\n",
    "    sat, pot_assign = dpll(new_circ, {**assigns, **{v.variable: False}})\n",
    "    if sat:\n",
    "        return sat, pot_assign\n",
    "\n",
    "    return False, {}"
   ]
  },
  {
   "cell_type": "markdown",
   "metadata": {
    "slideshow": {
     "slide_type": "slide"
    }
   },
   "source": [
    "<center>\n",
    "<H1> Let's see some examples <H1>\n",
    "</center>"
   ]
  },
  {
   "cell_type": "markdown",
   "metadata": {
    "slideshow": {
     "slide_type": "subslide"
    }
   },
   "source": [
    "# Let's start with the Graph Colouring problem\n",
    "\n",
    "Can we colour a graph such that no nodes that are connected are the same colour?"
   ]
  },
  {
   "cell_type": "markdown",
   "metadata": {
    "slideshow": {
     "slide_type": "fragment"
    }
   },
   "source": [
    "We can easily write this as a SAT problem, for example can we colour 1 and 2 using the colours Red and Blue?\n",
    "\n",
    "![graph](img/2graph_uncoloured.png)"
   ]
  },
  {
   "cell_type": "markdown",
   "metadata": {
    "slideshow": {
     "slide_type": "subslide"
    }
   },
   "source": [
    "# Graph Colouring\n",
    "\n",
    "\n",
    "<img src=\"img/2graph_uncoloured.png\" width=\"45%\" align=\"right\"> \n",
    " \n",
    "<br> \n",
    "$$\n",
    "({\\rm Red}_1 \\lor {\\rm Blue}_1) \\land \\\\\n",
    "(\\neg {\\rm Red}_1 \\lor \\neg{\\rm Blue}_1) \\land \\\\\n",
    "({\\rm Red}_2 \\lor {\\rm Blue}_2) \\land \\\\\n",
    "(\\neg {\\rm Red}_2 \\lor \\neg {\\rm Blue}_2) \\land \\\\\n",
    "(\\neg {\\rm Red}_1 \\lor \\neg {\\rm Red}_2) \\land \\\\\n",
    "(\\neg{\\rm Blue}_1 \\lor \\neg{\\rm Blue}_2)\n",
    "$$"
   ]
  },
  {
   "cell_type": "code",
   "execution_count": 14,
   "metadata": {
    "slideshow": {
     "slide_type": "skip"
    }
   },
   "outputs": [],
   "source": [
    "def read_file(filename: str) -> list:\n",
    "    with open(filename) as f:\n",
    "        txt = f.read()\n",
    "    return parse_txt(txt)\n",
    "\n",
    "def parse_txt(txt: str) -> list:\n",
    "    return {s for s in txt.split(\"\\n\") if s != \"\" and not s.startswith(\"#\")}\n",
    "\n",
    "def make_circ(txt: str) -> Circuit:\n",
    "    return [tuple(Term(t) for t in clse.split()) for clse in txt]"
   ]
  },
  {
   "cell_type": "code",
   "execution_count": 15,
   "metadata": {
    "slideshow": {
     "slide_type": "subslide"
    }
   },
   "outputs": [
    {
     "data": {
      "text/plain": [
       "(True, {'Red1': True, 'Blue1': False, 'Red2': False, 'Blue2': True})"
      ]
     },
     "execution_count": 15,
     "metadata": {},
     "output_type": "execute_result"
    }
   ],
   "source": [
    "colour2 = \"\"\"\n",
    "# Assign at least one colour to region 1\n",
    "Red1 Blue1\n",
    "\n",
    "# But no more than one colour\n",
    "¬Red1 ¬Blue1\n",
    "\n",
    "# Similarly for region 2\n",
    "Red2 Blue2\n",
    "¬Red2 ¬Blue2\n",
    "\n",
    "# Make sure regions 1 and 2 are not coloured the same since they are neighbours\n",
    "¬Red1 ¬Red2\n",
    "¬Blue1 ¬Blue2\n",
    "\"\"\"\n",
    "\n",
    "dpll(make_circ(parse_txt(colour2)))"
   ]
  },
  {
   "cell_type": "markdown",
   "metadata": {
    "slideshow": {
     "slide_type": "fragment"
    }
   },
   "source": [
    "![graph](img/2graph.png)"
   ]
  },
  {
   "cell_type": "markdown",
   "metadata": {
    "slideshow": {
     "slide_type": "subslide"
    }
   },
   "source": [
    "# So far so good...\n",
    "\n",
    "We can solve simple graph problems, how about something more complex?\n",
    "\n",
    "A Sudoku is a graph colouring problem, can you colour this graph using 9 different colours without any duplicates in a square, column, or row?\n",
    "\n",
    "<img src=\"img/sudoku.png\"></img>"
   ]
  },
  {
   "cell_type": "code",
   "execution_count": 16,
   "metadata": {
    "slideshow": {
     "slide_type": "skip"
    }
   },
   "outputs": [],
   "source": [
    "from itertools import combinations\n",
    "\n",
    "grid = '''\\\n",
    "AA AB AC BA BB BC CA CB CC\n",
    "AD AE AF BD BE BF CD CE CF\n",
    "AG AH AI BG BH BI CG CH CI\n",
    "DA DB DC EA EB EC FA FB FC\n",
    "DD DE DF ED EE EF FD FE FF\n",
    "DG DH DI EG EH EI FG FH FI\n",
    "GA GB GC HA HB HC IA IB IC\n",
    "GD GE GF HD HE HF ID IE IF\n",
    "GG GH GI HG HH HI IG IH II\n",
    "'''\n",
    "\n",
    "values = list('123456789')\n",
    "\n",
    "table = [row.split() for row in grid.splitlines()]\n",
    "points = grid.split()\n",
    "subsquares = dict()\n",
    "for point in points:\n",
    "    subsquares.setdefault(point[0], []).append(point)\n",
    "# Groups:  rows   + columns           + subsquares\n",
    "groups = table[:] + list(zip(*table)) + list(subsquares.values())\n",
    "\n",
    "\n",
    "def assignment_to_str(assigns: Assignment) -> str:\n",
    "    sq_vals = {k[:2]: k[-1] for k, v in assigns.items() if v}\n",
    "    nums = \"\".join(sq_vals[g] for g in grid.split())\n",
    "    return nums\n",
    "\n",
    "\n",
    "def show_string(sudoku: str):\n",
    "    'Display grid from a string (values in row major order)'\n",
    "    n = 3\n",
    "    fmt = '|'.join(['%s' * n] * n)\n",
    "    sep = '+'.join(['-'  * n] * n)\n",
    "    for i in range(n):\n",
    "        for j in range(n):\n",
    "            offset = (i * n + j) * n**2\n",
    "            print(fmt % tuple(sudoku[offset:offset+n**2]))\n",
    "        if i != n - 1:\n",
    "            print(sep)\n",
    "\n",
    "def exactly_one_of(elements: List[Term]) -> Circuit:\n",
    "    neg = lambda x: -x\n",
    "    lt = list(combinations(map(neg, elements), 2))\n",
    "    return lt + [tuple(elements)]\n",
    "\n",
    "def column_print(l, cols=4, width=13):\n",
    "    group = zip(*[l[i::3] for i in range(cols)])\n",
    "    for row in group:\n",
    "        print(''.join(\" \".join(map(str, word)).ljust(width) for word in row) + \"\")\n",
    "\n",
    "\n",
    "sudoku = '53..7....6..195....98....6.8...6...34..8.3..17...2...6.6....28....419..5....8..79'            "
   ]
  },
  {
   "cell_type": "markdown",
   "metadata": {
    "slideshow": {
     "slide_type": "subslide"
    }
   },
   "source": [
    "# Sudoku as SAT problem\n",
    "\n",
    "We want to write a SAT Circuit for the sudoku constraints\n",
    "\n",
    "This will be a **big** circuit, compared with what we've seen"
   ]
  },
  {
   "cell_type": "code",
   "execution_count": 17,
   "metadata": {
    "slideshow": {
     "slide_type": "fragment"
    }
   },
   "outputs": [
    {
     "name": "stdout",
     "output_type": "stream",
     "text": [
      "¬AA1 ¬AA2    ¬AA1 ¬AA3    ¬AA1 ¬AA4    ¬AA1 ¬AA5    \n",
      "¬AA1 ¬AA5    ¬AA1 ¬AA6    ¬AA1 ¬AA7    ¬AA1 ¬AA8    \n",
      "¬AA1 ¬AA8    ¬AA1 ¬AA9    ¬AA2 ¬AA3    ¬AA2 ¬AA4    \n",
      "¬AA2 ¬AA4    ¬AA2 ¬AA5    ¬AA2 ¬AA6    ¬AA2 ¬AA7    \n",
      "¬AA2 ¬AA7    ¬AA2 ¬AA8    ¬AA2 ¬AA9    ¬AA3 ¬AA4    \n",
      "¬AA3 ¬AA4    ¬AA3 ¬AA5    ¬AA3 ¬AA6    ¬AA3 ¬AA7    \n",
      "¬AA3 ¬AA7    ¬AA3 ¬AA8    ¬AA3 ¬AA9    ¬AA4 ¬AA5    \n",
      "¬AA4 ¬AA5    ¬AA4 ¬AA6    ¬AA4 ¬AA7    ¬AA4 ¬AA8    \n",
      "¬AA4 ¬AA8    ¬AA4 ¬AA9    ¬AA5 ¬AA6    ¬AA5 ¬AA7    \n",
      "¬AA5 ¬AA7    ¬AA5 ¬AA8    ¬AA5 ¬AA9    ¬AA6 ¬AA7    \n",
      "¬AA6 ¬AA7    ¬AA6 ¬AA8    ¬AA6 ¬AA9    ¬AA7 ¬AA8    \n",
      "¬AA7 ¬AA8    ¬AA7 ¬AA9    ¬AA8 ¬AA9    AA1 AA2 AA3 AA4 AA5 AA6 AA7 AA8 AA9\n"
     ]
    }
   ],
   "source": [
    "# We want to add the constraint that square (A, A) \n",
    "# contains exactly one number from 1-9\n",
    "rules = exactly_one_of([Term(f\"AA{i}\") for i in range(1, 10)])                \n",
    "column_print(rules)"
   ]
  },
  {
   "cell_type": "markdown",
   "metadata": {
    "slideshow": {
     "slide_type": "subslide"
    }
   },
   "source": [
    "# Sudoku as SAT problem\n",
    "\n",
    "All Sudoku start with the same constraints, so we need to encode that structure in SAT"
   ]
  },
  {
   "cell_type": "code",
   "execution_count": 18,
   "metadata": {
    "slideshow": {
     "slide_type": "fragment"
    }
   },
   "outputs": [
    {
     "name": "stdout",
     "output_type": "stream",
     "text": [
      "Number of clauses: 10560\n",
      "Number of variables: 729\n"
     ]
    }
   ],
   "source": [
    "sudoku_circuit = make_circ(read_file(\"code/circuits/sudoku_circuit.txt\"))\n",
    "\n",
    "print(f\"Number of clauses: {len(sudoku_circuit)}\")\n",
    "print(f\"Number of variables: {len({t.variable for clse in sudoku_circuit for t in clse})}\")"
   ]
  },
  {
   "cell_type": "code",
   "execution_count": 25,
   "metadata": {
    "slideshow": {
     "slide_type": "fragment"
    }
   },
   "outputs": [
    {
     "name": "stdout",
     "output_type": "stream",
     "text": [
      "2824013958708217496949108842204627863351353911851577524683401930862693830361198499905873920995229996970897865498283996578123296865878390947626553088486946106430796091482716120572632072492703527723757359478834530365734912\n",
      "\n",
      "2.824E+219\n"
     ]
    }
   ],
   "source": [
    "# for those keeping score:\n",
    "print(2**729)\n",
    "print()\n",
    "print(f\"{2**729:.3E}\")"
   ]
  },
  {
   "cell_type": "markdown",
   "metadata": {
    "slideshow": {
     "slide_type": "subslide"
    }
   },
   "source": [
    "# Sudoku as SAT problem\n",
    "\n",
    "And then after those general constraints we need the given numbers for that Sudoku\n",
    "\n",
    "These are essentially a set of *unit clasuses*, for instance here we know that terms AA5 is True"
   ]
  },
  {
   "cell_type": "code",
   "execution_count": 19,
   "metadata": {
    "slideshow": {
     "slide_type": "fragment"
    }
   },
   "outputs": [
    {
     "name": "stdout",
     "output_type": "stream",
     "text": [
      "53.|.7.|...\n",
      "6..|195|...\n",
      ".98|...|.6.\n",
      "---+---+---\n",
      "8..|.6.|..3\n",
      "4..|8.3|..1\n",
      "7..|.2.|..6\n",
      "---+---+---\n",
      ".6.|...|28.\n",
      "...|419|..5\n",
      "...|.8.|.79\n"
     ]
    }
   ],
   "source": [
    "# Let's solve this sudoku\n",
    "show_string(sudoku)"
   ]
  },
  {
   "cell_type": "code",
   "execution_count": 20,
   "metadata": {
    "slideshow": {
     "slide_type": "subslide"
    }
   },
   "outputs": [
    {
     "name": "stdout",
     "output_type": "stream",
     "text": [
      "534|678|912\n",
      "672|195|348\n",
      "198|342|567\n",
      "---+---+---\n",
      "859|761|423\n",
      "426|853|791\n",
      "713|924|856\n",
      "---+---+---\n",
      "961|537|284\n",
      "287|419|635\n",
      "345|286|179\n"
     ]
    }
   ],
   "source": [
    "sudoku_circuit = make_circ(read_file(\"code/circuits/sudoku_circuit.txt\"))\n",
    "\n",
    "solved, assignment = dpll(sudoku_circuit)\n",
    "show_string(assignment_to_str(assignment))"
   ]
  },
  {
   "cell_type": "markdown",
   "metadata": {
    "slideshow": {
     "slide_type": "subslide"
    }
   },
   "source": [
    "# Better solver\n",
    "\n",
    "If we want to use a production solver we have a lot of options, \n",
    "\n",
    "`pycosat` is a really powerful, really simple tool\n",
    "\n",
    "It's about 3,000 times faster than my hand-built solver"
   ]
  },
  {
   "cell_type": "code",
   "execution_count": 21,
   "metadata": {
    "slideshow": {
     "slide_type": "skip"
    }
   },
   "outputs": [],
   "source": [
    "from pycosat import itersolve\n",
    "\n",
    "def pycosat_solve(circ: Circuit) -> Solution:\n",
    "    variables = {t.variable for c in circ for t in c}\n",
    "    to_sym = dict(zip(variables, range(1, len(variables) + 1)))\n",
    "    from_sym = {v: k for k, v in to_sym.items()}\n",
    "\n",
    "    sym = []\n",
    "    for c in circ:\n",
    "        sym.append([to_sym[t.variable] if t.sign else -to_sym[t.variable]\n",
    "            for t in c])\n",
    "\n",
    "    sol = next(itersolve(sym), False)\n",
    "    if sol:\n",
    "        return True, {from_sym[abs(s)] : s > 0 for s in sol}\n",
    "    return False, {}"
   ]
  },
  {
   "cell_type": "code",
   "execution_count": 22,
   "metadata": {},
   "outputs": [
    {
     "name": "stdout",
     "output_type": "stream",
     "text": [
      "534|678|912\n",
      "672|195|348\n",
      "198|342|567\n",
      "---+---+---\n",
      "859|761|423\n",
      "426|853|791\n",
      "713|924|856\n",
      "---+---+---\n",
      "961|537|284\n",
      "287|419|635\n",
      "345|286|179\n"
     ]
    }
   ],
   "source": [
    "solved, assignment = pycosat_solve(sudoku_circuit)\n",
    "show_string(assignment_to_str(assignment))"
   ]
  },
  {
   "cell_type": "markdown",
   "metadata": {
    "slideshow": {
     "slide_type": "slide"
    }
   },
   "source": [
    "# Last word\n",
    "\n",
    "You've seen the core algorithm that powers SAT solvers\n",
    "\n",
    "These solvers have lots of uses and are pretty ubiquitous, for example `pycosat` is the dependency resolver in Conda\n",
    "\n",
    "Even though this is an NP problem we can scale to big problems\n",
    "\n",
    "There are lots of practical applications for these methods (planning, optimisation, etc.)"
   ]
  },
  {
   "cell_type": "markdown",
   "metadata": {
    "slideshow": {
     "slide_type": "slide"
    }
   },
   "source": [
    "![contact](img/contact-card.png)"
   ]
  }
 ],
 "metadata": {
  "celltoolbar": "Slideshow",
  "kernelspec": {
   "display_name": "Python 3",
   "language": "python",
   "name": "python3"
  },
  "language_info": {
   "codemirror_mode": {
    "name": "ipython",
    "version": 3
   },
   "file_extension": ".py",
   "mimetype": "text/x-python",
   "name": "python",
   "nbconvert_exporter": "python",
   "pygments_lexer": "ipython3",
   "version": "3.7.3"
  }
 },
 "nbformat": 4,
 "nbformat_minor": 2
}
